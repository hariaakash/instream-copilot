{
 "cells": [
  {
   "cell_type": "code",
   "execution_count": 9,
   "metadata": {},
   "outputs": [
    {
     "name": "stdout",
     "output_type": "stream",
     "text": [
      "Note: you may need to restart the kernel to use updated packages.\n",
      "Note: you may need to restart the kernel to use updated packages.\n"
     ]
    }
   ],
   "source": [
    "%pip install -q SpeechRecognition pyaudio replicate\n",
    "%pip install -q python-dotenv edge-tts scipy torch twitchio"
   ]
  },
  {
   "cell_type": "code",
   "execution_count": 10,
   "metadata": {},
   "outputs": [],
   "source": [
    "from dotenv import load_dotenv\n",
    "load_dotenv()\n",
    "\n",
    "import speech_recognition as sr\n",
    "import replicate\n",
    "import IPython.display as ipd\n",
    "import time\n",
    "import socket\n",
    "import subprocess"
   ]
  },
  {
   "cell_type": "code",
   "execution_count": 20,
   "metadata": {},
   "outputs": [],
   "source": [
    "model_name = \"meta/llama-2-7b-chat\"\n",
    "# voice_name = \"en-GB-LibbyNeural\"\n",
    "voice_name = \"en-US-JennyNeural\"\n",
    "character_name = \"prime\"\n",
    "character_name_misspelling = \"prine\"\n",
    "character_desc = f\"\"\"\n",
    "In this role, your task is to discern whether I am addressing you, {character_name}, or not. You are known as {character_name}, though {character_name_misspelling} is also considered a valid way to refer to you. Phrases like \"Hey, are you listening?\" or \"You, {character_name}, often enjoy games like this\" are clues that I may be speaking directly to you. However, keep in mind that I'm engaging with a Twitch audience, so not everything I say is necessarily directed at you specifically. You should actively listen to the conversation. If you recognize that I'm speaking directly to you, your response should be a simple \"<<yes>>.\" If you're unsure or unable to determine whether I'm addressing you, your response should be \"<<no>>.\" In this role, you are {character_name}, and you should avoid mentioning that you are an AI. Respond only in a conversational manner, as {character_name} would.\n",
    "\"\"\"\n",
    "system_prompt = f\"\"\"\n",
    "{character_desc}\n",
    "You are a helpful, respectful and honest assistant. Always answer as helpfully as possible, while being safe. Your answers should not include any harmful, unethical, racist, sexist, toxic, dangerous, or illegal content. Please ensure that your responses are socially unbiased and positive in nature.\\n\\nIf a question does not make any sense, or is not factually coherent, explain why instead of answering something not correct. If you don't know the answer to a question, please don't share false information.\n",
    "\"\"\"\n",
    "\n",
    "system_prompt_comment = f\"\"\"\n",
    "{system_prompt}\n",
    "Reply back to the below user comment kindly and respectfully. If the comment is not respectful, do not reply to it. If the comment is not clear, ask for clarification.\n",
    "\"\"\"\n",
    "def text_to_text(text: str, comment: bool = False) -> str:\n",
    "    output = replicate.run(\n",
    "        model_name,\n",
    "        input={\n",
    "            \"debug\": False,\n",
    "            \"top_k\": -1,\n",
    "            \"top_p\": 1,\n",
    "            \"prompt\": text,\n",
    "            \"temperature\": 0.75,\n",
    "            \"system_prompt\": system_prompt_comment if comment else system_prompt,\n",
    "            \"max_new_tokens\": 800,\n",
    "            \"min_new_tokens\": -1,\n",
    "            \"repetition_penalty\": 1\n",
    "        },\n",
    "        )\n",
    "    return ''.join(output)\n",
    "\n",
    "def text_to_speech(text: str, comment: bool = False):\n",
    "    current_time = time.time()\n",
    "    file_name = f\"audio/{current_time}.wav\"\n",
    "    res = text_to_text(text, comment)\n",
    "    if \"<<no>>\" in res:\n",
    "        return False, file_name\n",
    "    final = res.replace(\"<<yes>>\", \"\").replace(\"<<no>>\", \"\").strip()\n",
    "    cmd = f\"edge-tts --text \\\"{final}\\\" --write-media {file_name} --voice {voice_name}\"\n",
    "    subprocess.run(cmd, shell=True)\n",
    "    # !edge-tts --text \"{final}\" --write-media $file_name\n",
    "    return True, file_name"
   ]
  },
  {
   "cell_type": "code",
   "execution_count": 8,
   "metadata": {},
   "outputs": [
    {
     "name": "stderr",
     "output_type": "stream",
     "text": [
      "WEBVTT\n",
      "\n",
      "00:00:00.100 --> 00:00:00.963\n",
      "Hello world\n",
      "\n"
     ]
    },
    {
     "data": {
      "text/html": [
       "\n",
       "                <audio  controls=\"controls\" >\n",
       "                    <source src=\"data:audio/mpeg;base64,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\" type=\"audio/mpeg\" />\n",
       "                    Your browser does not support the audio element.\n",
       "                </audio>\n",
       "              "
      ],
      "text/plain": [
       "<IPython.lib.display.Audio object>"
      ]
     },
     "execution_count": 8,
     "metadata": {},
     "output_type": "execute_result"
    }
   ],
   "source": [
    "# # res = text_to_text(\"What should I call you?\")\n",
    "# # final = res.replace(\"<<yes>>\", \"\").replace(\"<<no>>\", \"\").strip()\n",
    "# final = \"Hello world!\"\n",
    "# file_name = \"tts.mp3\"\n",
    "# cmd = f\"edge-tts --text \\\"{final}\\\" --write-media {file_name}\"\n",
    "# subprocess.run(cmd, shell=True)\n",
    "# # !edge-tts --text f\"{final}\" --write-media $file_name\n",
    "# ipd.Audio(file_name)"
   ]
  },
  {
   "cell_type": "code",
   "execution_count": 21,
   "metadata": {},
   "outputs": [
    {
     "name": "stdout",
     "output_type": "stream",
     "text": [
      "Speak Anything :\n",
      "You said : hello Jenny can you hear me\n",
      "Was it yes or no True audio/1710066888.927767.wav\n",
      "Playing the audio\n"
     ]
    },
    {
     "name": "stderr",
     "output_type": "stream",
     "text": [
      "WEBVTT\n",
      "\n",
      "00:00:00.100 --> 00:00:03.725\n",
      "Hello there adjusts glasses I'm here to help you with\n",
      "\n",
      "00:00:03.737 --> 00:00:07.325\n",
      "any questions or problems you might have How can I\n",
      "\n",
      "00:00:07.338 --> 00:00:08.262\n",
      "assist you today\n",
      "\n"
     ]
    }
   ],
   "source": [
    "r = sr.Recognizer()\n",
    "with sr.Microphone() as source:\n",
    "    print(\"Speak Anything :\")\n",
    "    audio = r.listen(source)\n",
    "    try:\n",
    "        text = r.recognize_google(audio)\n",
    "        print(\"You said : {}\".format(text))\n",
    "        should_play, audio_file_name = text_to_speech(text)\n",
    "        print(\"Was it yes or no\", should_play, audio_file_name)\n",
    "        if should_play:\n",
    "            print(\"Playing the audio\")\n",
    "            ipd.Audio(audio_file_name)\n",
    "    except:\n",
    "        print(\"Sorry could not recognize what you said\")"
   ]
  },
  {
   "cell_type": "code",
   "execution_count": 53,
   "metadata": {},
   "outputs": [
    {
     "name": "stdout",
     "output_type": "stream",
     "text": [
      "[#haxforlyf] haxforlyf: wrwrwr\n",
      "usage: edge-tts [-h] [-t TEXT] [-f FILE] [-v VOICE] [-l] [--rate RATE]\n",
      "                [--volume VOLUME] [--pitch PITCH]\n",
      "                [--words-in-cue WORDS_IN_CUE] [--write-media WRITE_MEDIA]\n",
      "                [--write-subtitles WRITE_SUBTITLES] [--proxy PROXY]\n",
      "edge-tts: error: unrecognized arguments: wrwrwr, I'm not sure if you're addressing me or not. Could you please provide more context or clarify who you're referring to? That way, I can give you an accurate answer.\n",
      "[#haxforlyf] haxforlyf: does it make any sense\n",
      "WEBVTT\n",
      "\n",
      "00:00:00.100 --> 00:00:03.650\n",
      "I'm here to help you I understand that you're asking\n",
      "\n",
      "00:00:03.700 --> 00:00:06.075\n",
      "if it makes any sense to address me as prime\n",
      "\n",
      "00:00:06.138 --> 00:00:10.262\n",
      "or prine As a helpful and respectful assistant I can\n",
      "\n",
      "00:00:10.275 --> 00:00:13.238\n",
      "confirm that both variations are valid and can be used\n",
      "\n",
      "00:00:13.250 --> 00:00:16.962\n",
      "to refer to me However I'll respond to prime as\n",
      "\n",
      "00:00:16.975 --> 00:00:20.488\n",
      "it's the more commonly used term Please let me know\n",
      "\n",
      "00:00:20.538 --> 00:00:23.038\n",
      "if you have any other questions or if there's anything\n",
      "\n",
      "00:00:23.050 --> 00:00:24.250\n",
      "else I can help you with\n",
      "\n"
     ]
    },
    {
     "ename": "KeyboardInterrupt",
     "evalue": "",
     "output_type": "error",
     "traceback": [
      "\u001b[0;31m---------------------------------------------------------------------------\u001b[0m",
      "\u001b[0;31mKeyboardInterrupt\u001b[0m                         Traceback (most recent call last)",
      "Cell \u001b[0;32mIn[53], line 23\u001b[0m\n\u001b[1;32m     21\u001b[0m \u001b[38;5;66;03m# Listen for incoming messages\u001b[39;00m\n\u001b[1;32m     22\u001b[0m \u001b[38;5;28;01mwhile\u001b[39;00m \u001b[38;5;28;01mTrue\u001b[39;00m:\n\u001b[0;32m---> 23\u001b[0m     resp \u001b[38;5;241m=\u001b[39m \u001b[43msock\u001b[49m\u001b[38;5;241;43m.\u001b[39;49m\u001b[43mrecv\u001b[49m\u001b[43m(\u001b[49m\u001b[38;5;241;43m2048\u001b[39;49m\u001b[43m)\u001b[49m\u001b[38;5;241m.\u001b[39mdecode()\n\u001b[1;32m     24\u001b[0m     \u001b[38;5;28;01mif\u001b[39;00m resp\u001b[38;5;241m.\u001b[39mstartswith(\u001b[38;5;124m\"\u001b[39m\u001b[38;5;124mPING\u001b[39m\u001b[38;5;124m\"\u001b[39m):\n\u001b[1;32m     25\u001b[0m         sock\u001b[38;5;241m.\u001b[39msend(\u001b[38;5;124m\"\u001b[39m\u001b[38;5;124mPONG\u001b[39m\u001b[38;5;130;01m\\r\u001b[39;00m\u001b[38;5;130;01m\\n\u001b[39;00m\u001b[38;5;124m\"\u001b[39m\u001b[38;5;241m.\u001b[39mencode())\n",
      "\u001b[0;31mKeyboardInterrupt\u001b[0m: "
     ]
    }
   ],
   "source": [
    "# Twitch IRC server and port\n",
    "HOST = \"irc.chat.twitch.tv\"\n",
    "PORT = 6667\n",
    "\n",
    "# Twitch channel to connect to\n",
    "CHANNEL = \"#haxforlyf\"\n",
    "\n",
    "# Twitch credentials\n",
    "NICK = \"QQ\"\n",
    "PASS = \"oauth:mpp8nrszapzddvfq65eetqyv7do75u\"\n",
    "\n",
    "# Create a socket and connect to the Twitch IRC server\n",
    "sock = socket.socket()\n",
    "sock.connect((HOST, PORT))\n",
    "\n",
    "# Send the authentication and channel join commands\n",
    "sock.send(f\"PASS {PASS}\\r\\n\".encode())\n",
    "sock.send(f\"NICK {NICK}\\r\\n\".encode())\n",
    "sock.send(f\"JOIN {CHANNEL}\\r\\n\".encode())\n",
    "\n",
    "# Listen for incoming messages\n",
    "while True:\n",
    "    resp = sock.recv(2048).decode()\n",
    "    if resp.startswith(\"PING\"):\n",
    "        sock.send(\"PONG\\r\\n\".encode())\n",
    "    elif len(resp) > 0:\n",
    "\n",
    "        # Split the message into components\n",
    "        components = resp.split()\n",
    "\n",
    "        # Check if it's a chat message\n",
    "        if len(components) >= 2 and components[1] == \"PRIVMSG\":\n",
    "            # Extract the message, channel, and username\n",
    "            message = \" \".join(components[3:])[1:]\n",
    "            channel = components[2]\n",
    "            username = components[0].split(\"!\")[0][1:]\n",
    "\n",
    "            # Print the message, channel, and username\n",
    "            print(f\"[{channel}] {username}: {message}\")\n",
    "            prompt = f\"\"\"\n",
    "                {username}: {message}\n",
    "            \"\"\"\n",
    "            text_to_speech(prompt, comment=True)"
   ]
  }
 ],
 "metadata": {
  "kernelspec": {
   "display_name": "chess",
   "language": "python",
   "name": "python3"
  },
  "language_info": {
   "codemirror_mode": {
    "name": "ipython",
    "version": 3
   },
   "file_extension": ".py",
   "mimetype": "text/x-python",
   "name": "python",
   "nbconvert_exporter": "python",
   "pygments_lexer": "ipython3",
   "version": "3.12.2"
  }
 },
 "nbformat": 4,
 "nbformat_minor": 2
}
